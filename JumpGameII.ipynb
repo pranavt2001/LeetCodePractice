{
  "nbformat": 4,
  "nbformat_minor": 0,
  "metadata": {
    "colab": {
      "provenance": []
    },
    "kernelspec": {
      "name": "python3",
      "display_name": "Python 3"
    },
    "language_info": {
      "name": "python"
    }
  },
  "cells": [
    {
      "cell_type": "markdown",
      "source": [
        "You are given a 0-indexed array of integers nums of length n. You are initially positioned at nums[0].\n",
        "\n",
        "Each element nums[i] represents the maximum length of a forward jump from index i. In other words, if you are at nums[i], you can jump to any nums[i + j] where:\n",
        "\n",
        "0 <= j <= nums[i] and\n",
        "i + j < n\n",
        "Return the minimum number of jumps to reach nums[n - 1]. The test cases are generated such that you can reach nums[n - 1].\n",
        "\n",
        "\n",
        "\n",
        "Example 1:\n",
        "\n",
        "Input: nums = [2,3,1,1,4]\n",
        "Output: 2\n",
        "Explanation: The minimum number of jumps to reach the last index is 2. Jump 1 step from index 0 to 1, then 3 steps to the last index.\n",
        "Example 2:\n",
        "\n",
        "Input: nums = [2,3,0,1,4]\n",
        "Output: 2\n",
        "\n",
        "\n",
        "Constraints:\n",
        "\n",
        "1 <= nums.length <= 104\n",
        "0 <= nums[i] <= 1000\n",
        "It's guaranteed that you can reach nums[n - 1]."
      ],
      "metadata": {
        "id": "rjQG_W8XU-qo"
      }
    },
    {
      "cell_type": "code",
      "source": [
        "!pip install typing\n",
        "from typing import List"
      ],
      "metadata": {
        "colab": {
          "base_uri": "https://localhost:8080/"
        },
        "id": "ecL3K8MtVPOy",
        "outputId": "d05f37e1-5848-4b09-a89e-ccebe04e16ed"
      },
      "execution_count": 1,
      "outputs": [
        {
          "output_type": "stream",
          "name": "stdout",
          "text": [
            "Requirement already satisfied: typing in /usr/local/lib/python3.10/dist-packages (3.7.4.3)\n"
          ]
        }
      ]
    },
    {
      "cell_type": "code",
      "source": [
        "class Solution:\n",
        "    def jump(self, nums: List[int]) -> int:\n",
        "      if(len(nums) == 1):\n",
        "        return 0\n",
        "      jumps = []\n",
        "      def recJump(index, arr, jumps_made):\n",
        "        if(arr == nums and index > 0):\n",
        "          jumps.append(jumps_made)\n",
        "          return True\n",
        "        avail_jumps = nums[index]\n",
        "        for i in range(1, avail_jumps+1):\n",
        "          if(index + i <= len(nums) - 1):\n",
        "            sub_arr = nums[:index + i + 1]\n",
        "            recJump(index + i, sub_arr, jumps_made + 1)\n",
        "          else:\n",
        "            break\n",
        "      recJump(0, nums, 0)\n",
        "      return min(jumps)\n",
        "inst = Solution()\n",
        "inst.jump([2,3,0,1,4])\n",
        "\n",
        "## Works for both Test cases provided but time limit exceed for larger datasets, Another case of O(2^n)"
      ],
      "metadata": {
        "colab": {
          "base_uri": "https://localhost:8080/"
        },
        "id": "O-6jPkMKY16j",
        "outputId": "85983473-2f97-4f9d-f72e-24bf8d448565"
      },
      "execution_count": 16,
      "outputs": [
        {
          "output_type": "execute_result",
          "data": {
            "text/plain": [
              "2"
            ]
          },
          "metadata": {},
          "execution_count": 16
        }
      ]
    },
    {
      "cell_type": "code",
      "source": [
        "##Working solution -- done with help of solution > 25 min\n",
        "\n",
        "class Solution:\n",
        "    def jump(self, nums: List[int]) -> int:\n",
        "        jumps, max_reach, steps = 0, 0, 0\n",
        "\n",
        "        for i in range(len(nums)-1):\n",
        "            max_reach = max(max_reach, i + nums[i])\n",
        "            if i == steps:\n",
        "                jumps += 1\n",
        "                steps = max_reach\n",
        "        return jumps\n",
        "inst = Solution()\n",
        "inst.jump([2,3,0,1,4])"
      ],
      "metadata": {
        "colab": {
          "base_uri": "https://localhost:8080/"
        },
        "id": "qpFNeoolqjp7",
        "outputId": "88e9c703-4651-4871-9ed2-23d080f611ef"
      },
      "execution_count": 17,
      "outputs": [
        {
          "output_type": "execute_result",
          "data": {
            "text/plain": [
              "2"
            ]
          },
          "metadata": {},
          "execution_count": 17
        }
      ]
    },
    {
      "cell_type": "code",
      "source": [
        "x = [1,2,3]\n",
        "y = [1,2,3]\n",
        "x == y"
      ],
      "metadata": {
        "colab": {
          "base_uri": "https://localhost:8080/"
        },
        "id": "5-6mmcmXmj4K",
        "outputId": "131d630b-5ae1-4cc6-c12a-e61d5190bc41"
      },
      "execution_count": 12,
      "outputs": [
        {
          "output_type": "execute_result",
          "data": {
            "text/plain": [
              "True"
            ]
          },
          "metadata": {},
          "execution_count": 12
        }
      ]
    }
  ]
}