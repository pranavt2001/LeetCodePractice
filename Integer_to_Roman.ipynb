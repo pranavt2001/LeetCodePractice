{
  "nbformat": 4,
  "nbformat_minor": 0,
  "metadata": {
    "colab": {
      "provenance": []
    },
    "kernelspec": {
      "name": "python3",
      "display_name": "Python 3"
    },
    "language_info": {
      "name": "python"
    }
  },
  "cells": [
    {
      "cell_type": "markdown",
      "source": [
        "Seven different symbols represent Roman numerals with the following values:\n",
        "\n",
        "Symbol\tValue\n",
        "I\t1\n",
        "V\t5\n",
        "X\t10\n",
        "L\t50\n",
        "C\t100\n",
        "D\t500\n",
        "M\t1000\n",
        "Roman numerals are formed by appending the conversions of decimal place values from highest to lowest. Converting a decimal place value into a Roman numeral has the following rules:\n",
        "\n",
        "If the value does not start with 4 or 9, select the symbol of the maximal value that can be subtracted from the input, append that symbol to the result, subtract its value, and convert the remainder to a Roman numeral.\n",
        "If the value starts with 4 or 9 use the subtractive form representing one symbol subtracted from the following symbol, for example, 4 is 1 (I) less than 5 (V): IV and 9 is 1 (I) less than 10 (X): IX. Only the following subtractive forms are used: 4 (IV), 9 (IX), 40 (XL), 90 (XC), 400 (CD) and 900 (CM).\n",
        "Only powers of 10 (I, X, C, M) can be appended consecutively at most 3 times to represent multiples of 10. You cannot append 5 (V), 50 (L), or 500 (D) multiple times. If you need to append a symbol 4 times use the subtractive form.\n",
        "Given an integer, convert it to a Roman numeral.\n",
        "\n",
        "\n",
        "\n",
        "Example 1:\n",
        "\n",
        "Input: num = 3749\n",
        "\n",
        "Output: \"MMMDCCXLIX\"\n",
        "\n",
        "Explanation:\n",
        "\n",
        "3000 = MMM as 1000 (M) + 1000 (M) + 1000 (M)\n",
        " 700 = DCC as 500 (D) + 100 (C) + 100 (C)\n",
        "  40 = XL as 10 (X) less of 50 (L)\n",
        "   9 = IX as 1 (I) less of 10 (X)\n",
        "Note: 49 is not 1 (I) less of 50 (L) because the conversion is based on decimal places\n",
        "Example 2:\n",
        "\n",
        "Input: num = 58\n",
        "\n",
        "Output: \"LVIII\"\n",
        "\n",
        "Explanation:\n",
        "\n",
        "50 = L\n",
        " 8 = VIII\n",
        "Example 3:\n",
        "\n",
        "Input: num = 1994\n",
        "\n",
        "Output: \"MCMXCIV\"\n",
        "\n",
        "Explanation:\n",
        "\n",
        "1000 = M\n",
        " 900 = CM\n",
        "  90 = XC\n",
        "   4 = IV\n",
        "\n",
        "\n",
        "Constraints:\n",
        "\n",
        "1 <= num <= 3999"
      ],
      "metadata": {
        "id": "9odbYPsnPhyb"
      }
    },
    {
      "cell_type": "code",
      "execution_count": null,
      "metadata": {
        "id": "4S69f5FxPgDA"
      },
      "outputs": [],
      "source": [
        "class Solution:\n",
        "    def intToRoman(self, num: int) -> str:\n",
        "        return_val = \"\"\n",
        "        possible_vals = [1000, 500, 100, 50, 10, 5, 1]\n",
        "        roman = {1000: \"M\" , 500: \"D\", 100: \"C\", 50: \"L\", 10: \"X\", 5: \"V\", 1: \"I\"}\n",
        "        for item in possible_vals\n",
        "          if(num % item != item):\n",
        "            count = num//item\n",
        "            if count < 4:\n",
        "              return_val = return_val + str(roman[item]) * count\n",
        "            elif count == 4\n"
      ]
    },
    {
      "cell_type": "code",
      "source": [
        "    def intToRoman(self, num: int) -> str:\n",
        "        value_symbols = [\n",
        "            (1000, 'M'), (900, 'CM'), (500, 'D'), (400, 'CD'),\n",
        "            (100, 'C'), (90, 'XC'), (50, 'L'), (40, 'XL'), (10, 'X'),\n",
        "            (9, 'IX'), (5, 'V'), (4, 'IV'), (1, 'I')\n",
        "        ]\n",
        "\n",
        "        res = []\n",
        "\n",
        "        for value, symbol in value_symbols:\n",
        "            if num == 0:\n",
        "                break\n",
        "            count = num // value\n",
        "            res.append(symbol * count)\n",
        "            num -= count * value\n",
        "\n",
        "        return ''.join(res)"
      ],
      "metadata": {
        "id": "LOe7Xu9-nvPj"
      },
      "execution_count": null,
      "outputs": []
    },
    {
      "cell_type": "code",
      "source": [
        "str(5//2) * 2"
      ],
      "metadata": {
        "colab": {
          "base_uri": "https://localhost:8080/",
          "height": 35
        },
        "id": "pzNDR9eYPwV_",
        "outputId": "239ed450-69c0-448f-c8f0-88b7eae48aa6"
      },
      "execution_count": null,
      "outputs": [
        {
          "output_type": "execute_result",
          "data": {
            "text/plain": [
              "'22'"
            ],
            "application/vnd.google.colaboratory.intrinsic+json": {
              "type": "string"
            }
          },
          "metadata": {},
          "execution_count": 4
        }
      ]
    },
    {
      "cell_type": "code",
      "source": [
        "3999%5000"
      ],
      "metadata": {
        "colab": {
          "base_uri": "https://localhost:8080/"
        },
        "id": "nIJ-TR_GP8AQ",
        "outputId": "239ae6ae-95d0-432b-f658-afd7c58f4942"
      },
      "execution_count": null,
      "outputs": [
        {
          "output_type": "execute_result",
          "data": {
            "text/plain": [
              "3999"
            ]
          },
          "metadata": {},
          "execution_count": 2
        }
      ]
    }
  ]
}