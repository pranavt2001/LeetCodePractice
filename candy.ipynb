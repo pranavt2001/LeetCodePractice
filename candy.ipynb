{
  "nbformat": 4,
  "nbformat_minor": 0,
  "metadata": {
    "colab": {
      "provenance": []
    },
    "kernelspec": {
      "name": "python3",
      "display_name": "Python 3"
    },
    "language_info": {
      "name": "python"
    }
  },
  "cells": [
    {
      "cell_type": "markdown",
      "source": [
        "There are n children standing in a line. Each child is assigned a rating value given in the integer array ratings.\n",
        "\n",
        "You are giving candies to these children subjected to the following requirements:\n",
        "\n",
        "Each child must have at least one candy.\n",
        "Children with a higher rating get more candies than their neighbors.\n",
        "Return the minimum number of candies you need to have to distribute the candies to the children.\n",
        "\n",
        "\n",
        "\n",
        "Example 1:\n",
        "\n",
        "Input: ratings = [1,0,2]\n",
        "Output: 5\n",
        "Explanation: You can allocate to the first, second and third child with 2, 1, 2 candies respectively.\n",
        "Example 2:\n",
        "\n",
        "Input: ratings = [1,2,2]\n",
        "Output: 4\n",
        "Explanation: You can allocate to the first, second and third child with 1, 2, 1 candies respectively.\n",
        "The third child gets 1 candy because it satisfies the above two conditions.\n",
        "\n",
        "\n",
        "Constraints:\n",
        "\n",
        "n == ratings.length\n",
        "1 <= n <= 2 * 104\n",
        "0 <= ratings[i] <= 2 * 104"
      ],
      "metadata": {
        "id": "CWmh3r_R1NlZ"
      }
    },
    {
      "cell_type": "code",
      "execution_count": 3,
      "metadata": {
        "colab": {
          "base_uri": "https://localhost:8080/"
        },
        "id": "JsKYuQ3Wxpax",
        "outputId": "b53a932f-b35c-45ac-9618-1a7d7b39b45f"
      },
      "outputs": [
        {
          "output_type": "stream",
          "name": "stdout",
          "text": [
            "Requirement already satisfied: typing in /usr/local/lib/python3.10/dist-packages (3.7.4.3)\n"
          ]
        }
      ],
      "source": [
        "!pip install typing\n",
        "from typing import List"
      ]
    },
    {
      "cell_type": "code",
      "source": [
        "class Solution:\n",
        "    def candy(self, ratings: List[int]) -> int:\n",
        "      candy = [1] * len(ratings)\n",
        "      for i in range(len(ratings)):\n",
        "        if(i == 0):\n",
        "          #code for first item\n",
        "          current = ratings[i]\n",
        "          next = ratings[i+1]\n",
        "          if(current > next):\n",
        "            candy[i] = candy[i] + 1\n",
        "        elif(i == len(ratings)-1):\n",
        "          # code for last item\n",
        "          current = ratings[i]\n",
        "          prev = ratings[i - 1]\n",
        "          if(current > prev):\n",
        "            candy[i] = candy[i] + 1\n",
        "        else:\n",
        "          #actual algo\n",
        "          current = ratings[i]\n",
        "          prev = ratings[i - 1]\n",
        "          next = ratings[i+1]\n",
        "          if(current > prev):\n",
        "            candy[i] = candy[i] + 1\n",
        "          if(current > next):\n",
        "            candy[i] = candy[i] + 1\n",
        "      return sum(candy)\n"
      ],
      "metadata": {
        "id": "MlMxx8ly1MuI"
      },
      "execution_count": 4,
      "outputs": []
    },
    {
      "cell_type": "code",
      "source": [
        "class Solution:\n",
        "    def candy(self, ratings: List[int]) -> int:\n",
        "        sum = 0\n",
        "        n = len(ratings)\n",
        "        left2right = [1] * n\n",
        "        right2left = [1] * n\n",
        "\n",
        "        print(\"initially L2R and R2L are: \")\n",
        "        print(left2right)\n",
        "        print(right2left)\n",
        "\n",
        "        for i in range(1, n):\n",
        "            if ratings[i] > ratings[i - 1]:\n",
        "                left2right[i] = left2right[i - 1] + 1\n",
        "        print(\"L2R post Transform\")\n",
        "        print(left2right)\n",
        "\n",
        "        for i in range(n - 2, -1, -1):\n",
        "            if ratings[i] > ratings[i + 1]:\n",
        "                right2left[i] = right2left[i + 1] + 1\n",
        "\n",
        "        print(\"R2L post Transform\")\n",
        "        print(right2left)\n",
        "        for i in range(n):\n",
        "            sum += max(left2right[i], right2left[i])\n",
        "        return sum\n",
        "sol = Solution()\n",
        "sol.candy([1,2,87,87,87,2,1])"
      ],
      "metadata": {
        "colab": {
          "base_uri": "https://localhost:8080/"
        },
        "id": "t5OWiFbLFg_-",
        "outputId": "80f93828-8d53-4cb1-ffc6-147a7683f4b7"
      },
      "execution_count": 5,
      "outputs": [
        {
          "output_type": "stream",
          "name": "stdout",
          "text": [
            "initially L2R and R2L are: \n",
            "[1, 1, 1, 1, 1, 1, 1]\n",
            "[1, 1, 1, 1, 1, 1, 1]\n",
            "L2R post Transform\n",
            "[1, 2, 3, 1, 1, 1, 1]\n",
            "R2L post Transform\n",
            "[1, 1, 1, 1, 3, 2, 1]\n"
          ]
        },
        {
          "output_type": "execute_result",
          "data": {
            "text/plain": [
              "13"
            ]
          },
          "metadata": {},
          "execution_count": 5
        }
      ]
    },
    {
      "cell_type": "code",
      "source": [
        "x = [1]\n",
        "x * 6"
      ],
      "metadata": {
        "colab": {
          "base_uri": "https://localhost:8080/"
        },
        "id": "yMlfURAL1eeC",
        "outputId": "316bd6c5-f843-420c-c637-67a8a9384436"
      },
      "execution_count": 6,
      "outputs": [
        {
          "output_type": "execute_result",
          "data": {
            "text/plain": [
              "[1, 1, 1, 1, 1, 1]"
            ]
          },
          "metadata": {},
          "execution_count": 6
        }
      ]
    }
  ]
}